{
 "cells": [
  {
   "cell_type": "markdown",
   "id": "e95fe9a4-ef73-40dc-885a-7ff71b311ce5",
   "metadata": {},
   "source": [
    "# <b>Last modified on November 11 at 11:15 pm</b>"
   ]
  },
  {
   "cell_type": "code",
   "execution_count": 1,
   "id": "ef1f5799-8a47-4702-8ea8-4cdcad87509e",
   "metadata": {},
   "outputs": [],
   "source": [
    "import numpy as np\n",
    "import matplotlib.pyplot as plt"
   ]
  },
  {
   "cell_type": "markdown",
   "id": "5adbf39d-5a0c-4668-8b9c-d557283ec272",
   "metadata": {},
   "source": [
    "### Older Material on Lists"
   ]
  },
  {
   "cell_type": "code",
   "execution_count": 2,
   "id": "1072e8cd-dbb2-48cb-9a63-531eea6714fa",
   "metadata": {},
   "outputs": [],
   "source": [
    "# Code below allows Jupyter to prints multiple outputs, not just one on last line\n",
    "# Only use if you've already used\n",
    "# get_ipython().ast_node_interactivity = 'all'  "
   ]
  },
  {
   "cell_type": "code",
   "execution_count": 3,
   "id": "a50c981c-9fb7-450f-8edd-ecdb95dbc76c",
   "metadata": {},
   "outputs": [],
   "source": [
    "l = [10, 2.0, '5']"
   ]
  },
  {
   "cell_type": "code",
   "execution_count": 4,
   "id": "3a06ed7c-8e6f-4368-a75b-527d4992167f",
   "metadata": {},
   "outputs": [
    {
     "name": "stdout",
     "output_type": "stream",
     "text": [
      "10\n",
      "2.0\n",
      "5\n"
     ]
    }
   ],
   "source": [
    "# Looping over elements of an object\n",
    "for element in l:\n",
    "    print(element)"
   ]
  },
  {
   "cell_type": "code",
   "execution_count": 5,
   "id": "d962fc73-a299-41c8-816c-6206a42db219",
   "metadata": {},
   "outputs": [
    {
     "name": "stdout",
     "output_type": "stream",
     "text": [
      "0 10\n",
      "1 2.0\n",
      "2 5\n"
     ]
    }
   ],
   "source": [
    "# Looping over index values of an object\n",
    "for num in range(len(l)):\n",
    "    print(num, l[num])"
   ]
  },
  {
   "cell_type": "markdown",
   "id": "41478520-bd3c-48c0-af56-f15738b6d8e1",
   "metadata": {},
   "source": [
    "<b>List comprehension</b>'s most common form:\n",
    "\n",
    "\\[ \\{output statement\\} \\{for statement\\} \\{if statement\\} \\], where if statement is optional and where you have the option to nest if statements"
   ]
  },
  {
   "cell_type": "code",
   "execution_count": 6,
   "id": "86daec6c-49b9-4c74-9887-d0fd7800751a",
   "metadata": {},
   "outputs": [
    {
     "data": {
      "text/plain": [
       "[0.1, 0.2, 0.3, 0.4, 0.5, 0.6, 0.7, 0.8, 0.9, 1.0]"
      ]
     },
     "execution_count": 6,
     "metadata": {},
     "output_type": "execute_result"
    }
   ],
   "source": [
    "# List containing numbers 0, 0.1, 0.2, ..., 1.0\n",
    "[num/10 for num in range(1,11)]"
   ]
  },
  {
   "cell_type": "code",
   "execution_count": 7,
   "id": "189f9463-092a-42d7-b034-3dd7e66452a7",
   "metadata": {},
   "outputs": [
    {
     "data": {
      "text/plain": [
       "[[1, 'a'], [2, 'b'], [3, 'c'], [4, 'd'], [5, 'e']]"
      ]
     },
     "execution_count": 7,
     "metadata": {},
     "output_type": "execute_result"
    }
   ],
   "source": [
    "# Combining two lists of the same length into a list of lists\n",
    "\n",
    "l1 = range(1,6)\n",
    "l2 = ['a','b','c','d','e']\n",
    "l3 = [[l1[num], l2[num]] for num in range(len(l1))]\n",
    "l3"
   ]
  },
  {
   "cell_type": "code",
   "execution_count": 8,
   "id": "7991acf3-c7ae-495f-8207-439a104aeb10",
   "metadata": {},
   "outputs": [],
   "source": [
    "s = 'AaAaAaAAbBCcddEEEfgGgHHhIjjjjj'"
   ]
  },
  {
   "cell_type": "code",
   "execution_count": 9,
   "id": "8916a9fe-a21b-409d-851c-6de7b7425fa5",
   "metadata": {},
   "outputs": [
    {
     "data": {
      "text/plain": [
       "'aaaaaaaabbccddeeefggghhhijjjjj'"
      ]
     },
     "execution_count": 9,
     "metadata": {},
     "output_type": "execute_result"
    }
   ],
   "source": [
    "s.lower()"
   ]
  },
  {
   "cell_type": "code",
   "execution_count": 10,
   "id": "64cce73e-57e5-44ed-807a-0df229ff2dd9",
   "metadata": {},
   "outputs": [
    {
     "data": {
      "text/plain": [
       "5"
      ]
     },
     "execution_count": 10,
     "metadata": {},
     "output_type": "execute_result"
    }
   ],
   "source": [
    "s.count('A')"
   ]
  },
  {
   "cell_type": "code",
   "execution_count": 11,
   "id": "c4bc2c4e-378e-4587-a2bf-f419da0e378e",
   "metadata": {},
   "outputs": [
    {
     "name": "stdout",
     "output_type": "stream",
     "text": [
      "['A', 'A', 'A', 'A', 'A', 'B', 'C', 'E', 'E', 'E', 'G', 'H', 'H', 'I']\n"
     ]
    }
   ],
   "source": [
    "l_upper = [element   for element in s   if element.isupper()]\n",
    "print(l_upper)"
   ]
  },
  {
   "cell_type": "code",
   "execution_count": 12,
   "id": "fd3c987e-03d5-4a2e-b111-08f18350a1db",
   "metadata": {},
   "outputs": [
    {
     "name": "stdout",
     "output_type": "stream",
     "text": [
      "[['j', 5], ['h', 1], ['g', 2], ['f', 1], ['d', 2], ['c', 1], ['b', 1], ['a', 3], ['I', 1], ['H', 2], ['G', 1], ['E', 3], ['C', 1], ['B', 1], ['A', 5]]\n"
     ]
    }
   ],
   "source": [
    "# reverse=True sorts from highest to lowest; default is to sort from lowest to highest\n",
    "# optional key controls how elements are evaluating by sorting algorithm\n",
    "\n",
    "lol2 = [[element, s.count(element)] for element in sorted(set(s))]\n",
    "print(sorted(lol2, reverse=True))  "
   ]
  },
  {
   "cell_type": "code",
   "execution_count": 13,
   "id": "bc81343a-fe50-4881-a3de-6d533e0978c3",
   "metadata": {},
   "outputs": [
    {
     "name": "stdout",
     "output_type": "stream",
     "text": [
      "[['B', 1], ['C', 1], ['G', 1], ['I', 1], ['b', 1], ['c', 1], ['f', 1], ['h', 1], ['H', 2], ['d', 2], ['g', 2], ['E', 3], ['a', 3], ['A', 5], ['j', 5]]\n"
     ]
    }
   ],
   "source": [
    "# Sort by last element\n",
    "\n",
    "def last(l):\n",
    "    return l[-1]\n",
    "\n",
    "print(sorted(lol2, key=last))"
   ]
  },
  {
   "cell_type": "markdown",
   "id": "9519fad1-49d5-4a74-a6cb-e19f24c959cd",
   "metadata": {},
   "source": [
    "### Finance Formulas"
   ]
  },
  {
   "cell_type": "markdown",
   "id": "32d0f16e-eba6-408a-b356-28b2313db449",
   "metadata": {},
   "source": [
    "Cumulative n-period net return $ = (1+r_1)(1+r_2) \\cdots (1+r_n) - 1$\n",
    "\n",
    "Geometric average n-period net return $ = \\left( (1+r_1)(1+r_2) \\cdots (1+r_n) \\right)^{\\frac{1}{n}} - 1$"
   ]
  },
  {
   "cell_type": "code",
   "execution_count": 14,
   "id": "82ae54fd-224c-4017-ab31-0c2e218bc6be",
   "metadata": {},
   "outputs": [
    {
     "name": "stdout",
     "output_type": "stream",
     "text": [
      "[ 7 10 10  5 10 10 10 10 10  6]\n",
      "[0.03332727 0.01669813 0.00840742 0.03158479 0.00669271 0.01810412\n",
      " 0.00911199 0.02982557 0.01956263 0.01346246]\n"
     ]
    }
   ],
   "source": [
    "rets = np.random.normal(0.02,0.02,(10,10))\n",
    "\n",
    "rets[0,2:5] = np.nan\n",
    "rets[3,3:8] = np.nan\n",
    "rets[-1,-4:] = np.nan\n",
    "\n",
    "c = np.nancumprod(1+rets, axis = 1)[:,-1]-1\n",
    "n = np.sum(~np.isnan(rets),axis = 1) \n",
    "\n",
    "print(n)\n",
    "print((1+c)**(1/n)-1)"
   ]
  },
  {
   "cell_type": "markdown",
   "id": "0faf8d1a-538c-4008-86de-d6947219e4b9",
   "metadata": {},
   "source": [
    "### Simulating Random Variables"
   ]
  },
  {
   "cell_type": "code",
   "execution_count": 15,
   "id": "fcf56eaf-0b05-4a52-ab6e-f5771c82ba8d",
   "metadata": {},
   "outputs": [
    {
     "data": {
      "text/plain": [
       "array([[0, 0, 1, 1],\n",
       "       [0, 1, 0, 1],\n",
       "       [1, 1, 0, 0],\n",
       "       [0, 1, 1, 1],\n",
       "       [1, 0, 0, 1]])"
      ]
     },
     "execution_count": 15,
     "metadata": {},
     "output_type": "execute_result"
    }
   ],
   "source": [
    "np.random.normal(0.05,0.15, (5,12))   # Normal with mean 5%, std 15%, 5 rows and 12 columns\n",
    "np.random.binomial(82,0.6, (10000,))  # 10000 seasons; each season is winning record for team with 60% prob of winning\n",
    "np.random.random((100,))              # 100 draws from uniform [0,-1]\n",
    "(np.random.random((5,4)) >= 0.5)*1    # 1s and 0s in (5,4) array based on fair coin flips\n",
    "np.random.binomial(1,0.5,(5,4))       # 1s and 0s in (5,4) array based on fair coin flips"
   ]
  },
  {
   "cell_type": "code",
   "execution_count": 16,
   "id": "16496eb9-f56e-44cd-9a5b-ebcd0299f441",
   "metadata": {},
   "outputs": [
    {
     "name": "stdout",
     "output_type": "stream",
     "text": [
      "0.0749 0.0749 0.0749 0.0749\n",
      "0.0583 0.0583 0.0583 0.0583\n"
     ]
    },
    {
     "data": {
      "text/plain": [
       "0.233"
      ]
     },
     "execution_count": 16,
     "metadata": {},
     "output_type": "execute_result"
    }
   ],
   "source": [
    "# Using winning records in basketball seasons\n",
    "# to estimate probability of 56 or more wins\n",
    "# when probability winning = 60%\n",
    "\n",
    "sim = np.random.binomial(82,0.6, (10000,))\n",
    "\n",
    "prob1a = sum([1 for x in sim if x>=56]) / len(list(sim))\n",
    "\n",
    "prob1b = sim[sim>=56].size / sim.size\n",
    "\n",
    "prob1c = np.mean(np.where(sim>=56, 1, 0))\n",
    "\n",
    "prob1d = np.mean(sim>=56)\n",
    "\n",
    "print(prob1a, prob1b, prob1c, prob1d)\n",
    "\n",
    "# If you wanted to measure probability of winning between 56 and 58 games...\n",
    "\n",
    "prob2a = sum([1 for x in sim if x>=56 and x<=58]) / len(list(sim))\n",
    "\n",
    "prob2b = (sim[(sim>=56)*(sim<=58)]).size / sim.size\n",
    "\n",
    "prob2c = np.mean(np.where((sim>=56)*(sim<=58), 1, 0))\n",
    "\n",
    "prob2d = np.mean((sim>=56)*(sim<=58))\n",
    "\n",
    "print(prob2a, prob2b, prob2c, prob2d)\n",
    "\n",
    "# If you want to compare winning records of different teams in same hypothetical season\n",
    "\n",
    "win50 = np.random.binomial(82, 0.50, 10000)\n",
    "win45 = np.random.binomial(82, 0.45, 10000)\n",
    "\n",
    "np.mean(win50 < win45)"
   ]
  },
  {
   "cell_type": "markdown",
   "id": "0619fb10-a03c-461f-9c03-837fda323e26",
   "metadata": {},
   "source": [
    "### Creating Arrays and Basic Math"
   ]
  },
  {
   "cell_type": "code",
   "execution_count": 17,
   "id": "969e843a-b676-4bf3-82f2-5f0e8c899fd2",
   "metadata": {},
   "outputs": [],
   "source": [
    "l = [[1, 2, 3, 4], [5, 6, 7, 8]]\n",
    "a = np.array(l)"
   ]
  },
  {
   "cell_type": "code",
   "execution_count": 18,
   "id": "9a007dbf-c5dd-48c7-a2bc-b33ce87dc72e",
   "metadata": {},
   "outputs": [
    {
     "data": {
      "text/plain": [
       "((2, 4), 8)"
      ]
     },
     "execution_count": 18,
     "metadata": {},
     "output_type": "execute_result"
    }
   ],
   "source": [
    "a.shape, a.size"
   ]
  },
  {
   "cell_type": "code",
   "execution_count": 19,
   "id": "278da455-d952-4cea-af16-3c82bc443229",
   "metadata": {},
   "outputs": [
    {
     "data": {
      "text/plain": [
       "array([20, 18, 16, 14, 12, 10])"
      ]
     },
     "execution_count": 19,
     "metadata": {},
     "output_type": "execute_result"
    }
   ],
   "source": [
    "b = np.array(range(20,9,-2))\n",
    "b"
   ]
  },
  {
   "cell_type": "code",
   "execution_count": 20,
   "id": "e23e76a6-a221-4272-b31c-f7e3cb914f00",
   "metadata": {},
   "outputs": [
    {
     "data": {
      "text/plain": [
       "array([0, 1, 2, 3, 4, 5])"
      ]
     },
     "execution_count": 20,
     "metadata": {},
     "output_type": "execute_result"
    }
   ],
   "source": [
    "c = np.arange(0,6)\n",
    "c"
   ]
  },
  {
   "cell_type": "code",
   "execution_count": 21,
   "id": "e7e1c419-b08d-47e9-8698-19d8ec7bac49",
   "metadata": {},
   "outputs": [
    {
     "data": {
      "text/plain": [
       "array([      1,      36,    1024,   21952,  331776, 3200000])"
      ]
     },
     "execution_count": 21,
     "metadata": {},
     "output_type": "execute_result"
    }
   ],
   "source": [
    "(2*b)**c"
   ]
  },
  {
   "cell_type": "markdown",
   "id": "fca1b0fe-05cb-46f5-862d-60d98cff30a7",
   "metadata": {},
   "source": [
    "### Slicing Arrays"
   ]
  },
  {
   "cell_type": "code",
   "execution_count": 22,
   "id": "5e498217-afe8-4dee-91b5-b29701630c97",
   "metadata": {},
   "outputs": [
    {
     "name": "stdout",
     "output_type": "stream",
     "text": [
      "[[1 2 3 4]\n",
      " [5 6 7 8]]\n",
      "[1 2 3 4]\n",
      "[4 8]\n",
      "[3 4]\n",
      "[[-5  0  3  4]\n",
      " [ 5  6  7  8]]\n"
     ]
    }
   ],
   "source": [
    "tmp = np.arange(1,9).reshape(2,4)\n",
    "print(tmp)\n",
    "\n",
    "# Slicing to access elements\n",
    "\n",
    "print(tmp[0,:])   # row 0\n",
    "print(tmp[:,-1])  # last column\n",
    "print(tmp[0,2:])  # row 0, columns with index value 2 through end\n",
    "\n",
    "# Slicing to replace elements\n",
    "\n",
    "tmp[0,0:2] = [-5, 0]\n",
    "print(tmp)"
   ]
  },
  {
   "cell_type": "markdown",
   "id": "dc17050f-a951-4e6f-a636-39bcfd21d79f",
   "metadata": {},
   "source": [
    "### Combining and Sorting Arrays\n",
    "\n",
    "I would be surprised if you wanted to use these commands during Midterm 3"
   ]
  },
  {
   "cell_type": "code",
   "execution_count": 23,
   "id": "a9b6b84e-63c4-4556-b14b-846a8160dd22",
   "metadata": {},
   "outputs": [],
   "source": [
    "# np.concatenate ((array1,array2 ), axis ) combines the arrays within the inner ( ) \n",
    "#    & axis determines whether new array added to bottom of existing array (axis = 0) \n",
    "#      or on the side of existing array (axis =1)\n",
    "# np.vstack(()) can also be used to stack arrays vertically. Notice the double ( )\n",
    "# np.hstack(()) can also be used to stack arrays horizontally. Notice the double ( )\n",
    "# np.sort() sorts array from smallest to largest"
   ]
  },
  {
   "cell_type": "markdown",
   "id": "8be5419c-45d9-4384-ad5a-530602c0d380",
   "metadata": {},
   "source": [
    "### Syntax (mostly repeated elsewhere)"
   ]
  },
  {
   "cell_type": "code",
   "execution_count": 24,
   "id": "bbc833b3-b52c-4313-bfa0-df27f0b52eec",
   "metadata": {},
   "outputs": [],
   "source": [
    "# np.reshape(rows, columns)\n",
    "# np.arange(min, max+1)\n",
    "# np.vstack((array1, array2, array3))\n",
    "\n",
    "# np.any(condition)\n",
    "# np.all(condition)\n",
    "# np.where(condition, true, false)\n",
    "\n",
    "# np.random.multivariate_normal(m, cov, (structure,)).T"
   ]
  },
  {
   "cell_type": "markdown",
   "id": "33658d7e-3bf2-4bd1-b808-3d916bdabbdd",
   "metadata": {},
   "source": [
    "### Summary Statistics and Basic Filtering"
   ]
  },
  {
   "cell_type": "code",
   "execution_count": 25,
   "id": "8bb788c7-7040-47dd-bbcc-30c2dcee3f81",
   "metadata": {},
   "outputs": [
    {
     "data": {
      "text/plain": [
       "(array([-0.12350144,  0.04895987, -0.00054981,  0.06213334,         nan]),\n",
       " array([        nan, -0.09676384, -0.00670477, -0.16592436, -0.03009094]))"
      ]
     },
     "execution_count": 25,
     "metadata": {},
     "output_type": "execute_result"
    }
   ],
   "source": [
    "ret = np.random.normal(0.05,0.15, (48,5))\n",
    "\n",
    "ret[ret<-1] = -1    # eliminates returns < -100%\n",
    "\n",
    "ret[:,2] = ret[:,2] * 0.2*ret[:,3]\n",
    "ret[-12:,0] = np.nan\n",
    "ret[0:12,-1] = np.nan\n",
    "\n",
    "ret[0,:], ret[-1,:]"
   ]
  },
  {
   "cell_type": "code",
   "execution_count": 26,
   "id": "b91f856f-fe73-4ff5-984c-22f0b9a6f30a",
   "metadata": {},
   "outputs": [],
   "source": [
    "yyyy = np.array([2020]*12 + [2021]*12 + [2022]*12 + [2023]*12)\n",
    "fund = np.array(['A','B','C','D','E'])"
   ]
  },
  {
   "cell_type": "code",
   "execution_count": 27,
   "id": "0694074c-c1c6-4711-a44b-a58d4a6166f7",
   "metadata": {},
   "outputs": [],
   "source": [
    "# Summary statistic functions; array is mandatory, axis is optional\n",
    "# axis = 0 calculates statistics down columns\n",
    "# axis = 1 calculates statistics across rows\n",
    "\n",
    "# np.sum(array, axis)\n",
    "# np.mean(array, axis)\n",
    "# np.median(array, axis)\n",
    "# np.std(array, axis)\n",
    "# np.percentile(array, 40, axis) -> 40th percentile\n",
    "# np.cumprod(array, axis)\n",
    "# np.ptp(array, axis) -> difference between maximum and minimum along axis (if specified)\n",
    "\n",
    "# np.cumprod(1+array, axis=1)[-1] - 1    -> cumulative returns across unstructured array\n",
    "# np.cumprod(1+array, axis=1)[:,-1] - 1  -> cumulative returns across rows of structured array\n",
    "# np.cumprod(1+array, axis=0)[-1,:] - 1  -> cumulative returns down columns of structured array\n",
    "\n",
    "# Adding nan to the function name excludes missing values\n",
    "\n",
    "# np.nansum, np.nanmean(), ..."
   ]
  },
  {
   "cell_type": "code",
   "execution_count": 28,
   "id": "5d9b9609-82e5-408f-9fcd-a798eff7728b",
   "metadata": {},
   "outputs": [
    {
     "data": {
      "text/plain": [
       "array([        nan,  0.04621146, -0.00094711,  0.01492302,         nan])"
      ]
     },
     "execution_count": 28,
     "metadata": {},
     "output_type": "execute_result"
    }
   ],
   "source": [
    "np.mean(ret, axis=0)  # average return within each column (with all non-missing)"
   ]
  },
  {
   "cell_type": "code",
   "execution_count": 29,
   "id": "29ea2d3e-5d59-45bc-9ce6-2ab53f0e84e0",
   "metadata": {},
   "outputs": [
    {
     "data": {
      "text/plain": [
       "array([        nan,         nan,         nan,         nan,         nan,\n",
       "               nan,         nan,         nan,         nan,         nan,\n",
       "               nan,         nan, -0.02279629, -0.01144186,  0.04954957,\n",
       "       -0.01191522,  0.04149908,  0.08570245,  0.04944147,  0.0440593 ,\n",
       "        0.08150629,  0.07943128,  0.10331568,  0.03403385, -0.06712191,\n",
       "       -0.04038884, -0.00260025, -0.03386802,  0.01743617, -0.00707525,\n",
       "        0.01209826,  0.05548885,  0.02451819, -0.0161586 ,  0.05210181,\n",
       "       -0.04045688,         nan,         nan,         nan,         nan,\n",
       "               nan,         nan,         nan,         nan,         nan,\n",
       "               nan,         nan,         nan])"
      ]
     },
     "execution_count": 29,
     "metadata": {},
     "output_type": "execute_result"
    }
   ],
   "source": [
    "np.mean(ret, axis=1)  # average return within each row (with all non-missing)"
   ]
  },
  {
   "cell_type": "code",
   "execution_count": 30,
   "id": "87d39764-a262-4334-9c38-a6c8e2bbd984",
   "metadata": {},
   "outputs": [
    {
     "data": {
      "text/plain": [
       "array([ 0.05041808,  0.04621146, -0.00094711,  0.01492302,  0.01939151])"
      ]
     },
     "execution_count": 30,
     "metadata": {},
     "output_type": "execute_result"
    }
   ],
   "source": [
    "np.nanmean(ret, axis=0)"
   ]
  },
  {
   "cell_type": "code",
   "execution_count": 31,
   "id": "423cefa2-3eca-43b6-8fb0-22178168f0c0",
   "metadata": {},
   "outputs": [
    {
     "name": "stdout",
     "output_type": "stream",
     "text": [
      "[False False False False False False False False False False False False\n",
      " False False False False False False False False False False False False\n",
      " False False False False False False False False False False False False\n",
      "  True  True  True  True  True  True  True  True  True  True  True  True]\n",
      "12\n"
     ]
    }
   ],
   "source": [
    "# Identifying missing and non-missing values\n",
    "\n",
    "# To identify missing returns in column 0 (i.e., fund A)\n",
    "\n",
    "print(np.isnan(ret[:,0]))\n",
    "\n",
    "# To count missing returns in column 0 (i.e., fund A)\n",
    "\n",
    "print(np.sum(np.isnan(ret[:,0])))"
   ]
  },
  {
   "cell_type": "code",
   "execution_count": 32,
   "id": "9afab951-7063-4467-9823-30f89eb46e97",
   "metadata": {},
   "outputs": [
    {
     "name": "stdout",
     "output_type": "stream",
     "text": [
      "[12  0  0  0 12]\n"
     ]
    }
   ],
   "source": [
    "# To count missing returns in each column\n",
    "\n",
    "print(np.sum(np.isnan(ret), axis = 0))"
   ]
  },
  {
   "cell_type": "code",
   "execution_count": 33,
   "id": "eeb7f778-0c7a-4901-9456-fa86fbbe63b7",
   "metadata": {},
   "outputs": [
    {
     "name": "stdout",
     "output_type": "stream",
     "text": [
      "[36 48 48 48 36]\n"
     ]
    }
   ],
   "source": [
    "# To count non-missing returns in each column\n",
    "\n",
    "print(np.sum(~np.isnan(ret), axis = 0))"
   ]
  },
  {
   "cell_type": "code",
   "execution_count": 34,
   "id": "1bc57148-6691-4350-8c3b-6efaa527ffe0",
   "metadata": {},
   "outputs": [
    {
     "data": {
      "text/plain": [
       "array([False,  True,  True,  True, False])"
      ]
     },
     "execution_count": 34,
     "metadata": {},
     "output_type": "execute_result"
    }
   ],
   "source": [
    "# Identifies funds with no missing returns\n",
    "\n",
    "np.sum(np.isnan(ret),0) == 0"
   ]
  },
  {
   "cell_type": "code",
   "execution_count": 35,
   "id": "46b139d3-3e5f-4727-bf9d-bc38c2c47135",
   "metadata": {},
   "outputs": [
    {
     "data": {
      "text/plain": [
       "array([-5.49808701e-04, -8.56359078e-04,  1.08919629e-03,  1.46477234e-03,\n",
       "       -1.58736652e-03, -3.97230841e-03,  9.94656496e-03, -5.82499226e-03,\n",
       "       -9.85862335e-05,  3.48403493e-03, -2.83787137e-03, -1.39558217e-03,\n",
       "       -3.28563601e-03,  5.71358753e-04, -2.32569311e-03, -6.16130580e-04,\n",
       "       -2.11908467e-03, -9.05314144e-04, -8.50971959e-03,  1.86095104e-04,\n",
       "        6.17456253e-03, -5.90798956e-05,  5.06507382e-03, -3.05020820e-03,\n",
       "       -7.34378619e-03, -2.52434772e-03,  1.43582228e-03,  3.71506518e-03,\n",
       "       -3.12073029e-03,  1.29575949e-03,  3.07088882e-04,  7.02516676e-04,\n",
       "        1.18809233e-03, -1.49614659e-02,  7.56500680e-03,  3.22903747e-03,\n",
       "        4.11176190e-03, -1.01827970e-02,  9.86413822e-04,  1.28814900e-03,\n",
       "        1.06531678e-03, -9.56115391e-03, -7.63526568e-03,  5.38029717e-04,\n",
       "       -5.09987337e-03,  1.23210627e-03,  3.02482158e-03, -6.70477134e-03])"
      ]
     },
     "execution_count": 35,
     "metadata": {},
     "output_type": "execute_result"
    }
   ],
   "source": [
    "# To keep non-missing returns for fund 'C'\n",
    "\n",
    "retC = ret[:,fund=='C']\n",
    "retC[~np.isnan(retC)]"
   ]
  },
  {
   "cell_type": "markdown",
   "id": "46a1a4f0-0062-4a63-ae95-2e34e75aa81d",
   "metadata": {},
   "source": [
    "### Utility"
   ]
  },
  {
   "cell_type": "code",
   "execution_count": 36,
   "id": "0b459e7f-4bc7-414d-851e-f9141cb746cb",
   "metadata": {},
   "outputs": [],
   "source": [
    "# Utilities for terminal portfolio values\n",
    "\n",
    "# bal start at 10,000, ends at 20,0000, with 6 points (increases by 2,000)\n",
    "\n",
    "bal = np.linspace(10000, 20000, 6) \n",
    "util1 = np.log(bal)\n",
    "util2 = np.sqrt(bal)"
   ]
  },
  {
   "cell_type": "markdown",
   "id": "00ac36f7-ef52-486c-a12a-a100b8562cd5",
   "metadata": {},
   "source": [
    "### Booleans and Replacing Values and Missing"
   ]
  },
  {
   "cell_type": "code",
   "execution_count": 37,
   "id": "aa17049b-d34e-4b9a-ae01-e547a8911d94",
   "metadata": {},
   "outputs": [],
   "source": [
    "tmp = np.arange(-5,5).reshape(2,5)"
   ]
  },
  {
   "cell_type": "code",
   "execution_count": 38,
   "id": "9242d260-2580-4955-a4cc-b5dcb88125a2",
   "metadata": {},
   "outputs": [
    {
     "data": {
      "text/plain": [
       "array([[ True,  True,  True,  True,  True],\n",
       "       [False, False, False, False, False]])"
      ]
     },
     "execution_count": 38,
     "metadata": {},
     "output_type": "execute_result"
    }
   ],
   "source": [
    "tmp < 0    # returns (2,5) with True when element < 0"
   ]
  },
  {
   "cell_type": "code",
   "execution_count": 39,
   "id": "ad73ef8c-db88-4a34-8181-c23bc07c5344",
   "metadata": {},
   "outputs": [
    {
     "data": {
      "text/plain": [
       "array([[0, 0, 0, 0, 0],\n",
       "       [0, 1, 2, 3, 4]])"
      ]
     },
     "execution_count": 39,
     "metadata": {},
     "output_type": "execute_result"
    }
   ],
   "source": [
    "np.where(tmp < 0, 0, tmp)   # returns (2,5) with 0 or element"
   ]
  },
  {
   "cell_type": "code",
   "execution_count": 40,
   "id": "2a1b75e0-b8ed-457d-9153-41e49f2d69f5",
   "metadata": {},
   "outputs": [
    {
     "data": {
      "text/plain": [
       "array([[0, 0, 0, 0, 0],\n",
       "       [1, 1, 1, 1, 1]])"
      ]
     },
     "execution_count": 40,
     "metadata": {},
     "output_type": "execute_result"
    }
   ],
   "source": [
    "np.where(tmp < 0, 0, 1)     # returns (2,5) with 0 or 1 "
   ]
  },
  {
   "cell_type": "code",
   "execution_count": 41,
   "id": "a3659be9-bcf2-4adf-85e5-0a86f46a8425",
   "metadata": {},
   "outputs": [],
   "source": [
    "tmp[tmp<0] = 0   # changes elements of tmp that are < 0 to 0"
   ]
  },
  {
   "cell_type": "code",
   "execution_count": 42,
   "id": "f21484c8-f927-4d73-9683-236d3faeb850",
   "metadata": {},
   "outputs": [
    {
     "data": {
      "text/plain": [
       "(True, False)"
      ]
     },
     "execution_count": 42,
     "metadata": {},
     "output_type": "execute_result"
    }
   ],
   "source": [
    "np.any(tmp > 0), np.all(tmp > 0)"
   ]
  },
  {
   "cell_type": "code",
   "execution_count": 43,
   "id": "685b491f-efe4-47ce-a056-c84baece95d5",
   "metadata": {},
   "outputs": [],
   "source": [
    "tmp = tmp.astype(float)\n",
    "tmp[0,0] = tmp[-1,-1] = np.nan"
   ]
  },
  {
   "cell_type": "code",
   "execution_count": 44,
   "id": "8ead0242-0be8-41cf-a977-ef7aed7812cf",
   "metadata": {},
   "outputs": [
    {
     "data": {
      "text/plain": [
       "True"
      ]
     },
     "execution_count": 44,
     "metadata": {},
     "output_type": "execute_result"
    }
   ],
   "source": [
    "np.any(np.isnan(tmp))"
   ]
  },
  {
   "cell_type": "code",
   "execution_count": 45,
   "id": "61299b41-ae7d-4cd1-8e3b-bdf57c9744a8",
   "metadata": {},
   "outputs": [
    {
     "data": {
      "text/plain": [
       "False"
      ]
     },
     "execution_count": 45,
     "metadata": {},
     "output_type": "execute_result"
    }
   ],
   "source": [
    "np.all(np.isnan(tmp))"
   ]
  },
  {
   "cell_type": "code",
   "execution_count": 46,
   "id": "62724003-a242-497b-a759-af2535754d45",
   "metadata": {},
   "outputs": [
    {
     "data": {
      "text/plain": [
       "array([[nan,  0.,  0.,  0.,  0.],\n",
       "       [ 0.,  1.,  2.,  3., nan]])"
      ]
     },
     "execution_count": 46,
     "metadata": {},
     "output_type": "execute_result"
    }
   ],
   "source": [
    "tmp"
   ]
  },
  {
   "cell_type": "code",
   "execution_count": 47,
   "id": "ba6c132e-eb50-4975-958d-22b1fd0e1138",
   "metadata": {},
   "outputs": [
    {
     "name": "stdout",
     "output_type": "stream",
     "text": [
      "[1 1]\n",
      "[1 0 0 0 1]\n"
     ]
    }
   ],
   "source": [
    "print(np.sum(np.isnan(tmp), axis = 1))  # both rows contain one missing\n",
    "print(np.sum(np.isnan(tmp), axis = 0))  # columns 0 and 3 contain one missing"
   ]
  },
  {
   "cell_type": "code",
   "execution_count": 48,
   "id": "aa82c1e1-04e7-410c-b16d-634d2767d138",
   "metadata": {},
   "outputs": [
    {
     "name": "stdout",
     "output_type": "stream",
     "text": [
      "[4 4]\n",
      "[1 2 2 2 1]\n"
     ]
    }
   ],
   "source": [
    "# switching from np.isnan() to ~np.isnan()\n",
    "\n",
    "print(np.sum(~np.isnan(tmp), axis = 1))  # both rows contain three non-missing\n",
    "print(np.sum(~np.isnan(tmp), axis = 0))  # columns 0 and 3 contain one non-missing; other columns contain 2 non-missing"
   ]
  },
  {
   "cell_type": "markdown",
   "id": "b4163577-8c96-4a44-977d-ab2739d189eb",
   "metadata": {},
   "source": [
    "### More Filtering\n",
    "\n",
    "- `ret` is structured array of returns\n",
    "- `yyyy` is array of calendar years\n",
    "- `fund` is array of fund names"
   ]
  },
  {
   "cell_type": "code",
   "execution_count": 49,
   "id": "7536492f-8767-4662-81ad-8e57e4ae99a6",
   "metadata": {},
   "outputs": [
    {
     "name": "stdout",
     "output_type": "stream",
     "text": [
      "0.3177438253007201\n"
     ]
    }
   ],
   "source": [
    "# Highest non-missing return for fund B or D, where statistic is pooled across funds?\n",
    "\n",
    "print(np.max(ret[:,(fund=='B')+(fund=='D')]))"
   ]
  },
  {
   "cell_type": "code",
   "execution_count": 50,
   "id": "d413ceee-8b11-458c-a7dc-05ec1870a01d",
   "metadata": {},
   "outputs": [
    {
     "name": "stdout",
     "output_type": "stream",
     "text": [
      "[0.29829983 0.00994656 0.31774383]\n"
     ]
    }
   ],
   "source": [
    "# Highest non-missing return for fund B or C or D, where statistic is separate for each fund?\n",
    "\n",
    "print(np.max(ret[:,(fund=='B')+(fund=='C')+(fund=='D')], axis=0))"
   ]
  },
  {
   "cell_type": "code",
   "execution_count": 51,
   "id": "dc1f700f-0d57-486a-a78d-047408963f5f",
   "metadata": {},
   "outputs": [
    {
     "data": {
      "text/plain": [
       "(0.0606542684785946, -0.0350306062322745)"
      ]
     },
     "execution_count": 51,
     "metadata": {},
     "output_type": "execute_result"
    }
   ],
   "source": [
    "# Calculate the average monthly return of fund A in 2021 and fund D in 2023.\n",
    "\n",
    "ret_A2021 = ret[(yyyy==2021),:][:,fund=='A']\n",
    "ret_D2023 = ret[(yyyy==2023),:][:,fund=='D']\n",
    "\n",
    "np.mean(ret_A2021), np.mean(ret_D2023)"
   ]
  },
  {
   "cell_type": "code",
   "execution_count": 52,
   "id": "a99587b8-cb8b-41f3-88e7-00b56c0193f0",
   "metadata": {},
   "outputs": [
    {
     "data": {
      "text/plain": [
       "[['A', 2020, 0.08494353587108518],\n",
       " ['A', 2021, 0.0606542684785946],\n",
       " ['A', 2022, 0.005656444547394936],\n",
       " ['B', 2020, 0.049079372223556995],\n",
       " ['B', 2021, 0.05513732482964561],\n",
       " ['B', 2022, 0.012408143776977312],\n",
       " ['B', 2023, 0.06822098577923406],\n",
       " ['C', 2020, -9.485885346771948e-05],\n",
       " ['C', 2021, -0.0007394813322035474],\n",
       " ['C', 2022, -0.0007093284150997608],\n",
       " ['C', 2023, -0.0022447718516146247],\n",
       " ['D', 2020, 0.03555767815869328],\n",
       " ['D', 2021, 0.03745834613343458],\n",
       " ['D', 2022, 0.02170665238979955],\n",
       " ['D', 2023, -0.0350306062322745],\n",
       " ['E', 2021, 0.06515020437790554],\n",
       " ['E', 2022, -0.05823961295430458],\n",
       " ['E', 2023, 0.051263933187706744]]"
      ]
     },
     "execution_count": 52,
     "metadata": {},
     "output_type": "execute_result"
    }
   ],
   "source": [
    "# Calculate the average monthly return for each fund in each year... and store as a list of lists\n",
    "# If statement excludes fund-years with all missing values\n",
    "\n",
    "summary = []\n",
    "\n",
    "for letter in sorted(set(list(fund))):\n",
    "    for year in sorted(set(list(yyyy))):\n",
    "        tmp = ret[yyyy==year,:][:,fund==letter]\n",
    "        if np.sum(~np.isnan(tmp)) > 0:\n",
    "            summary.append([letter, year, np.nanmean(ret[yyyy==year,:][:,fund==letter])])\n",
    "summary"
   ]
  },
  {
   "cell_type": "code",
   "execution_count": 53,
   "id": "8ef51c2b-f5aa-467b-a105-16fba6365c82",
   "metadata": {},
   "outputs": [
    {
     "name": "stdout",
     "output_type": "stream",
     "text": [
      "(12, 1)\n"
     ]
    },
    {
     "data": {
      "text/plain": [
       "array([-0.16592436])"
      ]
     },
     "execution_count": 53,
     "metadata": {},
     "output_type": "execute_result"
    }
   ],
   "source": [
    "# Calculate the cumulative net return of fund D in 2023\n",
    "\n",
    "ret_D2023 = ret[(yyyy==2023),:][:,fund=='D']\n",
    "\n",
    "print(ret_D2023.shape)\n",
    "\n",
    "# While filtered values are a structured array, there is only set of returns\n",
    "\n",
    "np.cumprod(1+ret_D2023, axis=1)[-1] - 1"
   ]
  },
  {
   "cell_type": "code",
   "execution_count": 54,
   "id": "f5498f7a-f90d-4265-a3d4-4b2be3f7731e",
   "metadata": {},
   "outputs": [
    {
     "name": "stdout",
     "output_type": "stream",
     "text": [
      "(12, 5)\n"
     ]
    },
    {
     "data": {
      "text/plain": [
       "array([-0.13264567,  0.07200718, -0.00866582,  0.13784321, -0.54434964])"
      ]
     },
     "execution_count": 54,
     "metadata": {},
     "output_type": "execute_result"
    }
   ],
   "source": [
    "# Calculate the cumulative net return of each fund in 2022...\n",
    "# being sure to notice that returns are stored in columns...\n",
    "# which explains why I set axis=0\n",
    "\n",
    "tmp = ret[yyyy==2022,:]\n",
    "\n",
    "print(tmp.shape)   # 12 rows for each of the 5 funds\n",
    "\n",
    "np.cumprod(1+tmp, axis=0)[-1,:] - 1"
   ]
  },
  {
   "cell_type": "code",
   "execution_count": 55,
   "id": "e5d30d97-cbe6-420a-a4ad-2e7bd9b50f4f",
   "metadata": {},
   "outputs": [
    {
     "name": "stderr",
     "output_type": "stream",
     "text": [
      "/Library/Frameworks/Python.framework/Versions/3.12/lib/python3.12/site-packages/numpy/lib/function_base.py:2889: RuntimeWarning: Degrees of freedom <= 0 for slice\n",
      "  c = cov(x, y, rowvar, dtype=dtype)\n",
      "/Library/Frameworks/Python.framework/Versions/3.12/lib/python3.12/site-packages/numpy/lib/function_base.py:2748: RuntimeWarning: divide by zero encountered in divide\n",
      "  c *= np.true_divide(1, fact)\n",
      "/Library/Frameworks/Python.framework/Versions/3.12/lib/python3.12/site-packages/numpy/lib/function_base.py:2748: RuntimeWarning: invalid value encountered in multiply\n",
      "  c *= np.true_divide(1, fact)\n"
     ]
    },
    {
     "data": {
      "text/plain": [
       "nan"
      ]
     },
     "execution_count": 55,
     "metadata": {},
     "output_type": "execute_result"
    }
   ],
   "source": [
    "# What is correlation in the returns of funds C and D?\n",
    "\n",
    "np.corrcoef(ret[:,fund=='C'],ret[:,fund=='D'])[0,1]   # [0,1] is extracting correlation between two variables"
   ]
  },
  {
   "cell_type": "code",
   "execution_count": 56,
   "id": "bcf975f3-12d6-41d4-a69c-08a84778ba9a",
   "metadata": {},
   "outputs": [
    {
     "data": {
      "text/plain": [
       "(48, 1)"
      ]
     },
     "execution_count": 56,
     "metadata": {},
     "output_type": "execute_result"
    }
   ],
   "source": [
    "# Error message above arises because we are putting two columns into np.corrcoef()\n",
    "# That function requires data formatted as rows or two unstructured arrays\n",
    "\n",
    "ret[:,fund=='C'].shape"
   ]
  },
  {
   "cell_type": "code",
   "execution_count": 57,
   "id": "ac521eee-0d3c-44ef-94ae-e99f66071490",
   "metadata": {},
   "outputs": [
    {
     "data": {
      "text/plain": [
       "0.6175666642918737"
      ]
     },
     "execution_count": 57,
     "metadata": {},
     "output_type": "execute_result"
    }
   ],
   "source": [
    "tmpC = ret[:,fund=='C'].T   # switches from column to row\n",
    "tmpD = ret[:,fund=='D'].T   # switches from column to row\n",
    "\n",
    "np.corrcoef(tmpC,tmpD)[0,1]"
   ]
  },
  {
   "cell_type": "markdown",
   "id": "37f6f950-6802-4b25-907e-69427af59d2b",
   "metadata": {},
   "source": [
    "### Simulating Correlated Random Variables and Graphing"
   ]
  },
  {
   "cell_type": "code",
   "execution_count": 58,
   "id": "2132ae21-a78c-4168-b2e4-2c9ff3711f9a",
   "metadata": {},
   "outputs": [],
   "source": [
    "# corr(x,y)  = cov(x,y) / ((std(x) * std(y))\n",
    "# cov(x,y)   = corr(x,y) * std(x) * std(y)"
   ]
  },
  {
   "cell_type": "code",
   "execution_count": 59,
   "id": "5a30589d-0411-4157-ba8f-7ec0b5468963",
   "metadata": {},
   "outputs": [],
   "source": [
    "# Simulating 1000 pairs of correlated returns\n",
    "\n",
    "(m1, sd1) = (0.12, 0.10)  # mean and std\n",
    "(m2, sd2) = (0.03, 0.03)  # mean and std\n",
    "\n",
    "# r1 and r2 are based on correlation of 0.5\n",
    "\n",
    "corr_12 = 0.5\n",
    "cov_12  = 0.5 * sd1 * sd2\n",
    "\n",
    "m   = [m1, m2]\n",
    "cov = [[sd1**2, cov_12], [cov_12, sd2**2]]\n",
    "\n",
    "r1, r2 = np.random.multivariate_normal(m,cov,(1000,)).T"
   ]
  },
  {
   "cell_type": "code",
   "execution_count": 60,
   "id": "1b56400c-620c-4ac9-8203-11058166a1b1",
   "metadata": {},
   "outputs": [],
   "source": [
    "ave_r1 = np.mean(r1)\n",
    "ave_r2 = np.mean(r2)"
   ]
  },
  {
   "cell_type": "code",
   "execution_count": 61,
   "id": "0cdaf766-445d-48a8-9072-8f0bbb057778",
   "metadata": {},
   "outputs": [
    {
     "data": {
      "image/png": "[encoded data removed]",
      "text/plain": [
       "<Figure size 640x480 with 1 Axes>"
      ]
     },
     "metadata": {},
     "output_type": "display_data"
    }
   ],
   "source": [
    "plt.scatter(r1,r2, color='red', alpha=0.25)\n",
    "plt.axvline(ave_r1, color='black', linestyle='--', label='Mean r1')\n",
    "plt.axhline(ave_r2, color='black', linestyle='--', label='Mean r2')\n",
    "plt.title('Scatter r1 vs r2, correlation = 0.5')\n",
    "plt.show()"
   ]
  },
  {
   "cell_type": "code",
   "execution_count": 62,
   "id": "8343fb18-9ea1-4a8d-8824-aa62e1d7006f",
   "metadata": {},
   "outputs": [
    {
     "data": {
      "image/png": "[encoded data removed]",
      "text/plain": [
       "<Figure size 640x480 with 1 Axes>"
      ]
     },
     "metadata": {},
     "output_type": "display_data"
    }
   ],
   "source": [
    "plt.hist(r1, bins=50, alpha = 0.5, color='blue', label='r1')\n",
    "plt.hist(r2, bins=50, alpha = 0.5, color='orange', label='r2')\n",
    "plt.axvline(x=ave_r1, color='blue', linestyle='--')\n",
    "plt.axvline(x=ave_r2, color='orange', linestyle='--')\n",
    "plt.title('Histogram of r1 and r2')\n",
    "plt.legend()\n",
    "plt.show()"
   ]
  },
  {
   "cell_type": "markdown",
   "id": "e816c072-e29f-4dd1-a6a0-e72fa8db8102",
   "metadata": {},
   "source": [
    "### Using CAPM to Simulate Correlated Returns"
   ]
  },
  {
   "cell_type": "code",
   "execution_count": 63,
   "id": "a2834203-b9e8-4ff1-87e6-0ce9caa36349",
   "metadata": {},
   "outputs": [
    {
     "data": {
      "text/plain": [
       "array([[1.        , 0.27242107],\n",
       "       [0.27242107, 1.        ]])"
      ]
     },
     "execution_count": 63,
     "metadata": {},
     "output_type": "execute_result"
    }
   ],
   "source": [
    "rf =  np.random.normal(.02,0.02,(1,100))\n",
    "mkt = np.random.normal(.08,0.18,(1,100))\n",
    "mktrf = mkt-rf #calculate market excess return\n",
    "\n",
    "#creating simulated stock returns with different betas\n",
    "stock_beta_zero = rf + (0.0 * mktrf) + np.random.normal(0.00,0.18,(1,100))\n",
    "stock_beta_half = rf + (0.5 * mktrf) + np.random.normal(0.00,0.18,(1,100))\n",
    "stock_beta_one  = rf + (1.0 * mktrf) + np.random.normal(0.00,0.18,(1,100))\n",
    "stock_beta_two  = rf + (2.0 * mktrf) + np.random.normal(0.00,0.18,(1,100))\n",
    "\n",
    "#measuring correlations\n",
    "\n",
    "np.corrcoef(stock_beta_two,stock_beta_half)"
   ]
  },
  {
   "cell_type": "code",
   "execution_count": null,
   "id": "e1bb98a6-9bae-4e08-95ff-be4a88320760",
   "metadata": {},
   "outputs": [],
   "source": []
  }
 ],
 "metadata": {
  "kernelspec": {
   "display_name": "Python 3 (ipykernel)",
   "language": "python",
   "name": "python3"
  },
  "language_info": {
   "codemirror_mode": {
    "name": "ipython",
    "version": 3
   },
   "file_extension": ".py",
   "mimetype": "text/x-python",
   "name": "python",
   "nbconvert_exporter": "python",
   "pygments_lexer": "ipython3",
   "version": "3.12.2"
  }
 },
 "nbformat": 4,
 "nbformat_minor": 5
}
