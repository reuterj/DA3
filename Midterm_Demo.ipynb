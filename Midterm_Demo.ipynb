{
 "cells": [
  {
   "cell_type": "markdown",
   "id": "f3b7d100-38b7-42ce-b5ec-654b8734244b",
   "metadata": {},
   "source": [
    "# Midterm 1 (Demo)"
   ]
  },
  {
   "cell_type": "markdown",
   "id": "b32ce590-d55c-4f4f-b838-a4e95d92b3cc",
   "metadata": {},
   "source": [
    "If this were the real midterm, it would contain three questions\n",
    "\n",
    "1. Using list comprehension (or a for loop) to transform an existing list of lists\n",
    "2. Creating a function that processes final data. For example, it could ask you to calculate a present value, future value, NPV, compound return, average return, standard deviation, etc.\n",
    "3. Using a simple simulation to estimate the probability of a subset of possible outcomes"
   ]
  },
  {
   "cell_type": "code",
   "execution_count": null,
   "id": "a1c8451c-270b-4782-af09-b7be395229a9",
   "metadata": {},
   "outputs": [],
   "source": [
    "import math\n",
    "import random\n",
    "import statistics"
   ]
  },
  {
   "cell_type": "code",
   "execution_count": null,
   "id": "90373e1f-4ab6-402a-9e44-b206d0e4523e",
   "metadata": {},
   "outputs": [],
   "source": [
    "def last(s):\n",
    "    return s[-1]"
   ]
  },
  {
   "cell_type": "markdown",
   "id": "9514b4d5-9be0-4546-90d6-8f75d0ad1e25",
   "metadata": {},
   "source": [
    "<b>Example Question 1.</b> Please use list comprehension or for loop to create a new list that transforms the return for each mutual fund into its rank (where the highest return receives the highest rank). Since the list of lists 'mf' reports returns for eight mutual funds, the ranks should be 1, 2, 3, ..., 8. The new list of list 'mf2' should be of the form ['fund name',rank]. It does not need to be in the same order as 'mf'. \n",
    "\n",
    "<i>Hint: You may find last() helpful when sorting 'mf'.</i>"
   ]
  },
  {
   "cell_type": "code",
   "execution_count": null,
   "id": "1137e6d8-a20a-4179-a5a9-c39dbbc6425a",
   "metadata": {},
   "outputs": [],
   "source": [
    "random.seed(10)\n",
    "mf = [['Fund'+letter,random.gauss(0.10,0.10)] for letter in 'ABCDEFGH']\n",
    "for fund in mf:\n",
    "    print(fund)"
   ]
  },
  {
   "cell_type": "code",
   "execution_count": null,
   "id": "4b5073d0-d1ab-4e70-ab30-ec201f15e7e9",
   "metadata": {},
   "outputs": [],
   "source": [
    "# your code goes here"
   ]
  },
  {
   "cell_type": "markdown",
   "id": "39d25cb7-ecc2-46ea-b715-e44f634cc8e2",
   "metadata": {},
   "source": [
    "<b>Example Question 2.</b> Please define a function that calculates Sharpe ratios named <b>sr(lol)</b>. In its original form, the Sharpe ratio was defined as the (average return on an investment minus the risk-free rate) divided by the standard deviation of the annual returns on the investment. Your function should calculate this statistic for each of the stocks in a list of lists named 'stocks' <i>under the assumption that the risk-free rate is 3%</i>. You will find it helpful to use statistics.mean() and statistics.stdev().\n",
    "\n",
    "'Stocks' contains five lists, each of which contains a stock ticker followed by annual returns over the past five years. The output should be a new list of lists with five 'rows' where each 'row' is of the form [ticker,Sharpe ratio]."
   ]
  },
  {
   "cell_type": "code",
   "execution_count": null,
   "id": "b93a53fa-d7ed-46e2-862e-20a07f78a8d8",
   "metadata": {},
   "outputs": [],
   "source": [
    "random.seed(100)\n",
    "stocks = []\n",
    "for stock,mean in [('ABC',0.08),('XYZ',0.05),('QQQ',0.12),('IBM',0.2),('SEI',0.15)]:\n",
    "    stocks.append([stock] + [random.gauss(mean,0.10) for num in range(5)])\n",
    "for row in stocks:\n",
    "    print(row)"
   ]
  },
  {
   "cell_type": "code",
   "execution_count": null,
   "id": "1fc0c6d7-5c40-4ce7-8313-1dbd0a49003d",
   "metadata": {},
   "outputs": [],
   "source": [
    "# your code goes here"
   ]
  },
  {
   "cell_type": "markdown",
   "id": "7ae22c1e-dc81-4f7a-8b2b-28a84b765f4d",
   "metadata": {},
   "source": [
    "<b>Example Question 3.</b> Assume that your portfolio consists of two stocks. Specifically, you allocated 800,000 USD to Tesla and 1,200,000 USD to Apple. Assume that Tesla has an expected annual return of 12\\% with a standard deviation of 20\\% and Apple has an expected annual return of 9\\% with a standard deviation of 15\\%. Use a simulation with 10,000 iterations to estimate the probability that your portfolio has an annual net return between 0\\% and 5\\% over the next year. \n",
    "\n",
    "- Please replace any simulated returns for Tesla or Apple that are less than -100% with -100%.\n",
    "- Please use a print statement to report the result of your simulation, where the probability of 10\\% is printed as 10.00\\% (i.e., with two decimal places)."
   ]
  },
  {
   "cell_type": "code",
   "execution_count": null,
   "id": "da3365d1-04ac-4a19-803d-ca775a04f6b1",
   "metadata": {},
   "outputs": [],
   "source": [
    "# your code goes here"
   ]
  }
 ],
 "metadata": {
  "kernelspec": {
   "display_name": "Python 3 (ipykernel)",
   "language": "python",
   "name": "python3"
  },
  "language_info": {
   "codemirror_mode": {
    "name": "ipython",
    "version": 3
   },
   "file_extension": ".py",
   "mimetype": "text/x-python",
   "name": "python",
   "nbconvert_exporter": "python",
   "pygments_lexer": "ipython3",
   "version": "3.9.17"
  }
 },
 "nbformat": 4,
 "nbformat_minor": 5
}
