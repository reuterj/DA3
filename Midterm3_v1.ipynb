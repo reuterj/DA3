{
 "cells": [
  {
   "cell_type": "markdown",
   "id": "002f4a91-05bc-4aca-b6cf-506eb19cb05b",
   "metadata": {},
   "source": [
    "# Midterm 3 (v1)"
   ]
  },
  {
   "cell_type": "code",
   "execution_count": null,
   "id": "8e28c527-456d-4fd1-b0b7-b76ab67632f2",
   "metadata": {},
   "outputs": [],
   "source": [
    "# Please add your name to this cell\n",
    "name = \"\"\n",
    "\n",
    "print(f\"Midterm 3 submission by {name}\")"
   ]
  },
  {
   "cell_type": "markdown",
   "id": "3e54c92f-9849-4863-87d9-b26e56136d0b",
   "metadata": {},
   "source": [
    "<b>You are to complete this midterm on your own. You may reference the Python cheatsheet that is downloaded with the midterm. You may not communicate with classmates, attempt to access additional Python libraries, etc. If you make a sincere effort on a problem, even if your code does not work, you will receive at least half credit. If the average is low, I will apply a generous curve at the end of the year. Good luck!</b>"
   ]
  },
  {
   "cell_type": "markdown",
   "id": "61ee8031-078e-45af-ba2e-7b9ddcfd84f7",
   "metadata": {},
   "source": [
    "<b><p style=\"color:red\">If you find any of the questions to be unclear, please add a cell explaining the issue and the assumption that you are making to resolve it.</p></b>"
   ]
  },
  {
   "cell_type": "markdown",
   "id": "df35783d-1622-4939-b2e9-5f339120fdbc",
   "metadata": {},
   "source": [
    "Question 3 requires the following files, which have been downloaded for you.\n",
    "\n",
    "- q3_tbill.npy\n",
    "- q3_dates.npy\n",
    "- q3_month.npy"
   ]
  },
  {
   "cell_type": "code",
   "execution_count": null,
   "id": "7bc08072-0524-4616-aa59-97156b0b21f3",
   "metadata": {},
   "outputs": [],
   "source": [
    "import math\n",
    "import random\n",
    "import statistics\n",
    "import numpy as np\n",
    "import matplotlib.pyplot as plt"
   ]
  },
  {
   "cell_type": "markdown",
   "id": "5ed9c06c-eb2e-4073-8e1a-9628c6e2356f",
   "metadata": {},
   "source": [
    "## Question 1. Correlated Random Variables (5 points)\n",
    "\n",
    "- Asset 1 has an expected annual return of 8% and a standard deviation of 6%.\n",
    "- Asset 2 has an expected annual return of 10% and a standard deviaiton of 2% (yes 2%).\n",
    "- Assume that the correlation in annual returns is 0.4."
   ]
  },
  {
   "cell_type": "markdown",
   "id": "84a8bc6e-9ec5-4a7e-a459-75254761e8a1",
   "metadata": {},
   "source": [
    "<b>(2 points) Question 1a.</b> Generate 2,000 pairs of correlated annual returns for asset 1 and asset 2 and store them as `ra1` and `ra2`. Print the correlation coefficient for your simulated returns. <b>Please include 'np.random.seed(121963)' at the top of the cell used to generate these returns.</b>"
   ]
  },
  {
   "cell_type": "code",
   "execution_count": null,
   "id": "0b4367d1-f128-4632-bccf-3458b8e976f5",
   "metadata": {},
   "outputs": [],
   "source": [
    "np.random.seed(121963)\n",
    "\n",
    "# your code here"
   ]
  },
  {
   "cell_type": "markdown",
   "id": "c6a6048c-e4da-430a-aa45-20f2864b4cde",
   "metadata": {},
   "source": [
    "<b>(1 point) Question 1b.</b> Create a scatterplot of `ra1` and `ra2` and give it the title 'Correlation = 0.4'."
   ]
  },
  {
   "cell_type": "code",
   "execution_count": null,
   "id": "740fbdad-7efb-4b8f-8b3a-de8305982cf2",
   "metadata": {},
   "outputs": [],
   "source": [
    "# your code here"
   ]
  },
  {
   "cell_type": "markdown",
   "id": "2da56648-4b77-4796-8ded-ba3afa8dadb5",
   "metadata": {},
   "source": [
    "<b>(1 point) Question 1c.</b> Use `ra1` and `ra2` to estimate the probability that a portfolio that invests \\\\$70,000 in Asset 1 and \\\\$130,000 in Asset 2 is worth more that \\\\$222,222 at the end of one year. Store the answer as `q1c` and print `q1c`."
   ]
  },
  {
   "cell_type": "code",
   "execution_count": null,
   "id": "86ef7f9d-0d72-4414-ac89-5aa91c7521bb",
   "metadata": {},
   "outputs": [],
   "source": [
    "# your code here"
   ]
  },
  {
   "cell_type": "markdown",
   "id": "c0d77180-afe0-4b4c-b2a7-7783b04b2dac",
   "metadata": {},
   "source": [
    "<b>(1 point) Question 1d.</b> Use reshaped versions of `ra1` and `ra2` to estimate the probability that Asset 1 has a <b>two-year</b> cumulative net return that is at least 10 percentage points higher than Asset 2. Store the answer as `q1d` and print `q1d`."
   ]
  },
  {
   "cell_type": "code",
   "execution_count": null,
   "id": "cf249bcb-82f1-4344-bf23-e984ea9780f4",
   "metadata": {},
   "outputs": [],
   "source": [
    "# your code here"
   ]
  },
  {
   "cell_type": "markdown",
   "id": "d98265a6-b869-4985-8354-1a4ea9453251",
   "metadata": {},
   "source": [
    "## Question 2. Another Simulation (6 points)\n",
    "\n",
    "In this question, you will simulate annual portfolio returns over 7-year investment horizons and then use the simulated returns to estimate three probabilities."
   ]
  },
  {
   "cell_type": "markdown",
   "id": "9a9cd341-c1e0-4efd-92f3-605ed1d842f2",
   "metadata": {},
   "source": [
    "<b>(2 points) Question 2a.</b> Simulate seven annual returns using <b>np.random.normal()</b>, assuming an expected return of 12% and standard deviation of 24%, 100,000 times. Replace any net returns below -1 with -1. Store the resulting (100000,7) array of annual returns as `q2`.\n",
    "\n",
    "<b>Please include 'np.random.seed(921)' at the top of the cell used to generate these returns.</b>"
   ]
  },
  {
   "cell_type": "code",
   "execution_count": null,
   "id": "9190e20c-5d08-4680-a38c-177e9b3eecd0",
   "metadata": {},
   "outputs": [],
   "source": [
    "np.random.seed(921)\n",
    "\n",
    "# your code here"
   ]
  },
  {
   "cell_type": "markdown",
   "id": "6d4f911b-b6b2-4a21-8aad-089de6715799",
   "metadata": {},
   "source": [
    "<b>(1 point) Question 2b.</b> Use `q2` to estimate the probability that cumulative 7-year net returns are between 80% and 120%. (Since you are simulating continuous random variables, it does not matter whether you interpret between as > 0.80 and < 1.20 or as >= 0.80 and <= 1.20.)"
   ]
  },
  {
   "cell_type": "code",
   "execution_count": null,
   "id": "5853767a-c06c-47b2-a143-035d18235b24",
   "metadata": {},
   "outputs": [],
   "source": [
    "# your code here"
   ]
  },
  {
   "cell_type": "markdown",
   "id": "25999b11-82e5-40be-b291-96b777badd66",
   "metadata": {},
   "source": [
    "<b>(2 points) Question 2c.</b> Use `q2` to estimate the probability that at least three of the seven annual returns in a single 7-year investment horizon are negative.\n",
    "\n"
   ]
  },
  {
   "cell_type": "code",
   "execution_count": null,
   "id": "be6e0c14-73f9-43a3-a3d5-c39ba964fc31",
   "metadata": {},
   "outputs": [],
   "source": [
    "# your code here"
   ]
  },
  {
   "cell_type": "markdown",
   "id": "1906fe99",
   "metadata": {},
   "source": [
    "<b>(1 point) Question 2d.</b> Use `q2` to estimate the probability that each of the first three returns in a single 7-year investment horizon is negative."
   ]
  },
  {
   "cell_type": "code",
   "execution_count": null,
   "id": "75b8d5a9-d833-45cb-bef7-0d451817887d",
   "metadata": {},
   "outputs": [],
   "source": [
    "# your code here"
   ]
  },
  {
   "cell_type": "markdown",
   "id": "470eec92-4ca6-42b0-8840-2347ed73bc68",
   "metadata": {},
   "source": [
    "## Question 3. Filtering Real-World Financial Data (9 points)\n",
    "\n",
    "- `tbill` contains daily returns on US Treasury bills during 2022. It has 365 observations, but daily returns are missing when US financial markets are closed.\n",
    "- `dates` contains integers that represent each date (e.g., January 1, 2022 is 20220101).\n",
    "- `month` contains integers that represent January (1) through December (12).\n",
    "\n",
    "Note #1: It is possible to filter `tbill` using `dates` and/or `month`.\n",
    "\n",
    "Note #2: When solving the problems below, you are welcome to use np.nanstd(), np.nanmax(), etc. But, you may occasionally need to use np.isnan() to filter out missing values."
   ]
  },
  {
   "cell_type": "code",
   "execution_count": null,
   "id": "1a23cfa6-c442-46a6-a5a1-6cc45e97225f",
   "metadata": {},
   "outputs": [],
   "source": [
    "tbill = np.load('q3_tbill.npy') # unstructured array of returns that can be filtered with...\n",
    "dates = np.load('q3_dates.npy') # unstructured array of dates (as integers)\n",
    "month = np.load('q3_month.npy') # unstructured array of months (as integers 1-12)"
   ]
  },
  {
   "cell_type": "code",
   "execution_count": null,
   "id": "eea5d9f5-6c85-4f76-8a53-5fb748d67652",
   "metadata": {},
   "outputs": [],
   "source": [
    "tbill.shape, dates.shape, month.shape"
   ]
  },
  {
   "cell_type": "code",
   "execution_count": null,
   "id": "9c944bad-df72-4264-8e1c-c144eebe5e0a",
   "metadata": {},
   "outputs": [],
   "source": [
    "# Here are the data in January 2022\n",
    "# There are lots of missing values\n",
    "# Some daily returns equal 0%\n",
    "\n",
    "for i in range(31):\n",
    "    print(dates[i], month[i], tbill[i])"
   ]
  },
  {
   "cell_type": "markdown",
   "id": "b27f5121-2df7-4796-bb1e-8e1706cdc822",
   "metadata": {},
   "source": [
    "<b>(1 points) Question 3a.</b> Print total number of missing returns in all of 2022."
   ]
  },
  {
   "cell_type": "code",
   "execution_count": null,
   "id": "86f8701a-6792-4013-a5af-019c9aa38400",
   "metadata": {},
   "outputs": [],
   "source": [
    "# your code here"
   ]
  },
  {
   "cell_type": "markdown",
   "id": "ac587ee3-b4b5-4cd1-b89c-33f899fd6cf5",
   "metadata": {},
   "source": [
    "<b>(1 point) Question 3b.</b> Print the standard deviation of daily returns in April 2022."
   ]
  },
  {
   "cell_type": "code",
   "execution_count": null,
   "id": "4d45441e-1536-467a-9423-8812efae00e5",
   "metadata": {},
   "outputs": [],
   "source": [
    "# your code here"
   ]
  },
  {
   "cell_type": "markdown",
   "id": "091f6770-d2f7-4326-a3e1-2b1476d22e42",
   "metadata": {},
   "source": [
    "<b>(1 point) Question 3c.</b> Print the maximum daily return in last six months of 2022."
   ]
  },
  {
   "cell_type": "code",
   "execution_count": null,
   "id": "7598c04a-4373-42f8-ba6a-4add2550dc0d",
   "metadata": {},
   "outputs": [],
   "source": [
    "# your code here"
   ]
  },
  {
   "cell_type": "markdown",
   "id": "f8ea4156-a6cd-44b1-b372-abf1c827d955",
   "metadata": {},
   "source": [
    "<b>(2 points) Question 3d.</b> Use a for loop and print statement to print the number of nonmissing returns for each month. \n",
    "\n",
    "<i>Note: The code that you use to solve this problem can be extended to solve Question 3f.</i>"
   ]
  },
  {
   "cell_type": "code",
   "execution_count": null,
   "id": "213bd037-9e46-4880-81e4-05853869c81d",
   "metadata": {},
   "outputs": [],
   "source": [
    "# your code here"
   ]
  },
  {
   "cell_type": "markdown",
   "id": "d30ad553-b5da-4551-aaeb-12cb7dd4080f",
   "metadata": {},
   "source": [
    "<b>(2 points) Question 3e.</b> Plot a histogram of non-missing daily returns with 25 bins. Please include the title: 'Daily returns on T-bills in 2022'. I recommend 'darkgreen' for a color."
   ]
  },
  {
   "cell_type": "code",
   "execution_count": null,
   "id": "a111cb8e-121e-4413-967f-be13ba418bf8",
   "metadata": {},
   "outputs": [],
   "source": [
    "# your code here"
   ]
  },
  {
   "cell_type": "markdown",
   "id": "b6656c2d-0427-49db-a2f0-104484f7b26e",
   "metadata": {},
   "source": [
    "<b>(2 points) Question 3f.</b> Calculate cumulative monthly net return and geometric average daily net return for each month and store these returns in the new list of lists `monthly`. Each element of `monthly` should be [month, cumulative monthly, geometric average daily]. Because we are working with daily returns on Treasury bills, the cumulative monthly returns are going to be small and the geometric average daily returns are going to be very small."
   ]
  },
  {
   "cell_type": "code",
   "execution_count": null,
   "id": "b63d8527-02da-4a84-a7d9-2da6f5c010bb",
   "metadata": {},
   "outputs": [],
   "source": [
    "# your code here"
   ]
  },
  {
   "cell_type": "code",
   "execution_count": null,
   "id": "46e0b99f-44b6-49df-9154-4129d5bc9b21",
   "metadata": {},
   "outputs": [],
   "source": []
  }
 ],
 "metadata": {
  "kernelspec": {
   "display_name": "Python 3 (ipykernel)",
   "language": "python",
   "name": "python3"
  },
  "language_info": {
   "codemirror_mode": {
    "name": "ipython",
    "version": 3
   },
   "file_extension": ".py",
   "mimetype": "text/x-python",
   "name": "python",
   "nbconvert_exporter": "python",
   "pygments_lexer": "ipython3",
   "version": "3.12.2"
  }
 },
 "nbformat": 4,
 "nbformat_minor": 5
}
